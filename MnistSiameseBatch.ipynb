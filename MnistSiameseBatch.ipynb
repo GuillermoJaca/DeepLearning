{
 "cells": [
  {
   "cell_type": "code",
   "execution_count": 2,
   "metadata": {
    "colab": {
     "base_uri": "https://localhost:8080/",
     "height": 33
    },
    "colab_type": "code",
    "executionInfo": {
     "elapsed": 948,
     "status": "ok",
     "timestamp": 1572717371736,
     "user": {
      "displayName": "guillermo garcia",
      "photoUrl": "",
      "userId": "17287458583088402874"
     },
     "user_tz": -60
    },
    "id": "zDIDLStkQpGm",
    "outputId": "7f2df888-e70f-45bf-ad3a-48c2a915afdf"
   },
   "outputs": [
    {
     "name": "stderr",
     "output_type": "stream",
     "text": [
      "/home/guillermogarcia/anaconda3/lib/python3.7/site-packages/tensorflow/python/framework/dtypes.py:516: FutureWarning: Passing (type, 1) or '1type' as a synonym of type is deprecated; in a future version of numpy, it will be understood as (type, (1,)) / '(1,)type'.\n",
      "  _np_qint8 = np.dtype([(\"qint8\", np.int8, 1)])\n",
      "/home/guillermogarcia/anaconda3/lib/python3.7/site-packages/tensorflow/python/framework/dtypes.py:517: FutureWarning: Passing (type, 1) or '1type' as a synonym of type is deprecated; in a future version of numpy, it will be understood as (type, (1,)) / '(1,)type'.\n",
      "  _np_quint8 = np.dtype([(\"quint8\", np.uint8, 1)])\n",
      "/home/guillermogarcia/anaconda3/lib/python3.7/site-packages/tensorflow/python/framework/dtypes.py:518: FutureWarning: Passing (type, 1) or '1type' as a synonym of type is deprecated; in a future version of numpy, it will be understood as (type, (1,)) / '(1,)type'.\n",
      "  _np_qint16 = np.dtype([(\"qint16\", np.int16, 1)])\n",
      "/home/guillermogarcia/anaconda3/lib/python3.7/site-packages/tensorflow/python/framework/dtypes.py:519: FutureWarning: Passing (type, 1) or '1type' as a synonym of type is deprecated; in a future version of numpy, it will be understood as (type, (1,)) / '(1,)type'.\n",
      "  _np_quint16 = np.dtype([(\"quint16\", np.uint16, 1)])\n",
      "/home/guillermogarcia/anaconda3/lib/python3.7/site-packages/tensorflow/python/framework/dtypes.py:520: FutureWarning: Passing (type, 1) or '1type' as a synonym of type is deprecated; in a future version of numpy, it will be understood as (type, (1,)) / '(1,)type'.\n",
      "  _np_qint32 = np.dtype([(\"qint32\", np.int32, 1)])\n",
      "/home/guillermogarcia/anaconda3/lib/python3.7/site-packages/tensorflow/python/framework/dtypes.py:525: FutureWarning: Passing (type, 1) or '1type' as a synonym of type is deprecated; in a future version of numpy, it will be understood as (type, (1,)) / '(1,)type'.\n",
      "  np_resource = np.dtype([(\"resource\", np.ubyte, 1)])\n"
     ]
    },
    {
     "name": "stdout",
     "output_type": "stream",
     "text": [
      "1.14.0\n"
     ]
    },
    {
     "name": "stderr",
     "output_type": "stream",
     "text": [
      "/home/guillermogarcia/anaconda3/lib/python3.7/site-packages/tensorboard/compat/tensorflow_stub/dtypes.py:541: FutureWarning: Passing (type, 1) or '1type' as a synonym of type is deprecated; in a future version of numpy, it will be understood as (type, (1,)) / '(1,)type'.\n",
      "  _np_qint8 = np.dtype([(\"qint8\", np.int8, 1)])\n",
      "/home/guillermogarcia/anaconda3/lib/python3.7/site-packages/tensorboard/compat/tensorflow_stub/dtypes.py:542: FutureWarning: Passing (type, 1) or '1type' as a synonym of type is deprecated; in a future version of numpy, it will be understood as (type, (1,)) / '(1,)type'.\n",
      "  _np_quint8 = np.dtype([(\"quint8\", np.uint8, 1)])\n",
      "/home/guillermogarcia/anaconda3/lib/python3.7/site-packages/tensorboard/compat/tensorflow_stub/dtypes.py:543: FutureWarning: Passing (type, 1) or '1type' as a synonym of type is deprecated; in a future version of numpy, it will be understood as (type, (1,)) / '(1,)type'.\n",
      "  _np_qint16 = np.dtype([(\"qint16\", np.int16, 1)])\n",
      "/home/guillermogarcia/anaconda3/lib/python3.7/site-packages/tensorboard/compat/tensorflow_stub/dtypes.py:544: FutureWarning: Passing (type, 1) or '1type' as a synonym of type is deprecated; in a future version of numpy, it will be understood as (type, (1,)) / '(1,)type'.\n",
      "  _np_quint16 = np.dtype([(\"quint16\", np.uint16, 1)])\n",
      "/home/guillermogarcia/anaconda3/lib/python3.7/site-packages/tensorboard/compat/tensorflow_stub/dtypes.py:545: FutureWarning: Passing (type, 1) or '1type' as a synonym of type is deprecated; in a future version of numpy, it will be understood as (type, (1,)) / '(1,)type'.\n",
      "  _np_qint32 = np.dtype([(\"qint32\", np.int32, 1)])\n",
      "/home/guillermogarcia/anaconda3/lib/python3.7/site-packages/tensorboard/compat/tensorflow_stub/dtypes.py:550: FutureWarning: Passing (type, 1) or '1type' as a synonym of type is deprecated; in a future version of numpy, it will be understood as (type, (1,)) / '(1,)type'.\n",
      "  np_resource = np.dtype([(\"resource\", np.ubyte, 1)])\n"
     ]
    }
   ],
   "source": [
    "# Restart runtime using 'Runtime' -> 'Restart runtime...'\n",
    "#%tensorflow_version 1.x\n",
    "import tensorflow as tf\n",
    "print(tf.__version__)"
   ]
  },
  {
   "cell_type": "code",
   "execution_count": null,
   "metadata": {
    "colab": {
     "base_uri": "https://localhost:8080/",
     "height": 396
    },
    "colab_type": "code",
    "executionInfo": {
     "elapsed": 1091056,
     "status": "ok",
     "timestamp": 1573403915012,
     "user": {
      "displayName": "guillermo garcia",
      "photoUrl": "",
      "userId": "17287458583088402874"
     },
     "user_tz": -60
    },
    "id": "2ThPuVlYwGrL",
    "outputId": "29e33060-3bd0-4610-bffa-ad7dd67f7c68"
   },
   "outputs": [
    {
     "name": "stderr",
     "output_type": "stream",
     "text": [
      "Using TensorFlow backend.\n"
     ]
    },
    {
     "name": "stdout",
     "output_type": "stream",
     "text": [
      "Downloading data from https://s3.amazonaws.com/img-datasets/mnist.npz\n",
      "11493376/11490434 [==============================] - 3s 0us/step\n",
      "WARNING:tensorflow:From /home/guillermogarcia/anaconda3/lib/python3.7/site-packages/tensorflow/python/ops/math_grad.py:1250: add_dispatch_support.<locals>.wrapper (from tensorflow.python.ops.array_ops) is deprecated and will be removed in a future version.\n",
      "Instructions for updating:\n",
      "Use tf.where in 2.0, which has the same broadcast rule as np.where\n"
     ]
    },
    {
     "name": "stderr",
     "output_type": "stream",
     "text": [
      "/home/guillermogarcia/anaconda3/lib/python3.7/site-packages/ipykernel_launcher.py:163: UserWarning: Update your `Model` call to the Keras 2 API: `Model(inputs=[<tf.Tenso..., outputs=Tensor(\"la...)`\n",
      "/home/guillermogarcia/anaconda3/lib/python3.7/site-packages/ipykernel_launcher.py:168: UserWarning: The semantics of the Keras 2 argument `steps_per_epoch` is not the same as the Keras 1 argument `samples_per_epoch`. `steps_per_epoch` is the number of batches to draw from the generator at each epoch. Basically steps_per_epoch = samples_per_epoch/batch_size. Similarly `nb_val_samples`->`validation_steps` and `val_samples`->`steps` arguments have changed. Update your method calls accordingly.\n",
      "/home/guillermogarcia/anaconda3/lib/python3.7/site-packages/ipykernel_launcher.py:168: UserWarning: Update your `fit_generator` call to the Keras 2 API: `fit_generator(generator=<generator..., validation_data=<generator..., steps_per_epoch=108400.0, epochs=1, validation_steps=17820.0)`\n"
     ]
    },
    {
     "name": "stdout",
     "output_type": "stream",
     "text": [
      "WARNING:tensorflow:From /home/guillermogarcia/anaconda3/lib/python3.7/site-packages/keras/backend/tensorflow_backend.py:422: The name tf.global_variables is deprecated. Please use tf.compat.v1.global_variables instead.\n",
      "\n",
      "Epoch 1/1\n",
      "  3874/108400 [>.............................] - ETA: 9:53 - loss: nan"
     ]
    }
   ],
   "source": [
    "import numpy as np\n",
    "np.random.seed(1337)  # for reproducibility\n",
    "\n",
    "import random\n",
    "from keras.datasets import mnist\n",
    "from keras.models import Sequential, Model\n",
    "from keras.layers import Dense, Dropout, Input, Lambda\n",
    "from keras.optimizers import SGD, RMSprop\n",
    "from keras import backend as K\n",
    "from matplotlib import pyplot as plt\n",
    "\n",
    "class DataGenerator(object):\n",
    "    \"\"\"docstring for DataGenerator\"\"\"\n",
    "    def __init__(self, batch_sz):\n",
    "        # the data, shuffled and split between train and test sets\n",
    "        (X_train, y_train), (X_test, y_test) = mnist.load_data()\n",
    "        X_train = X_train.reshape(60000, 784)\n",
    "        X_test = X_test.reshape(10000, 784)\n",
    "        X_train = X_train.astype('float32')\n",
    "        X_test = X_test.astype('float32')\n",
    "        X_train /= 255\n",
    "        X_test /= 255\n",
    "        \n",
    "        # create training+test positive and negative pairs\n",
    "        digit_indices = [np.where(y_train == i)[0] for i in range(10)]\n",
    "        self.tr_pairs, self.tr_y = self.create_pairs(X_train, digit_indices) \n",
    "        digit_indices = [np.where(y_test == i)[0] for i in range(10)]\n",
    "        self.te_pairs, self.te_y = self.create_pairs(X_test, digit_indices)\n",
    "        \n",
    "        #print((self.tr_pairs).shape)\n",
    "\n",
    "        \n",
    "\n",
    "        self.tr_pairs_0 = self.tr_pairs[:, 0]   #(108400,784)\n",
    "        self.tr_pairs_1 = self.tr_pairs[:, 1]\n",
    "        self.te_pairs_0 = self.te_pairs[:, 0]\n",
    "        self.te_pairs_1 = self.te_pairs[:, 1]\n",
    "        \n",
    "\n",
    "        #print((self.tr_pairs_0).shape)\n",
    "        \n",
    "        self.batch_sz = batch_sz\n",
    "        self.samples_per_train  = (self.tr_pairs.shape[0]/self.batch_sz)*self.batch_sz\n",
    "        self.samples_per_val    = (self.te_pairs.shape[0]/self.batch_sz)*self.batch_sz\n",
    "        \n",
    "        \n",
    "        self.cur_train_index = 0\n",
    "        self.cur_val_index = 0\n",
    "        \n",
    "        \n",
    "    def create_pairs(self, x, digit_indices):\n",
    "        '''Positive and negative pair creation.\n",
    "        Alternates between positive and negative pairs.\n",
    "        '''\n",
    "        pairs = []\n",
    "        labels = []\n",
    "        n = min([len(digit_indices[d]) for d in range(10)]) - 1\n",
    "        for d in range(10):\n",
    "            for i in range(n):\n",
    "                z1, z2 = digit_indices[d][i], digit_indices[d][i+1]\n",
    "                pairs += [[x[z1], x[z2]]]\n",
    "                inc = random.randrange(1, 10)\n",
    "                dn = (d + inc) % 10\n",
    "                z1, z2 = digit_indices[d][i], digit_indices[dn][i]\n",
    "                pairs += [[x[z1], x[z2]]]\n",
    "                labels += [1, 0]\n",
    "        return np.array(pairs), np.array(labels)\n",
    "\n",
    "      \n",
    "    #Estas funciones es como si cargara solo un batch cada vez.  \n",
    "      \n",
    "    def next_train(self):\n",
    "        while 1:\n",
    "            self.cur_train_index += self.batch_sz              #Va aumentando el indice de lo que coges, para ir cogiendo hasta que coges todas las imagenes\n",
    "            if self.cur_train_index >= self.samples_per_train:\n",
    "                self.cur_train_index=0\n",
    "            yield ([    self.tr_pairs_0[self.cur_train_index:self.cur_train_index+self.batch_sz], \n",
    "                        self.tr_pairs_1[self.cur_train_index:self.cur_train_index+self.batch_sz]\n",
    "                    ],                                                                                 #Cuando llega vuelve a poner self.tr_pairs_0 a coger un barch (0,128) /// (128,784)\n",
    "                   \n",
    "                        self.tr_y[self.cur_train_index:self.cur_train_index+self.batch_sz]\n",
    "                )\n",
    "\n",
    "    def next_val(self):\n",
    "        while 1:\n",
    "            self.cur_val_index += self.batch_sz\n",
    "            if self.cur_val_index >= self.samples_per_val:\n",
    "                self.cur_val_index=0\n",
    "            yield ([    self.te_pairs_0[self.cur_val_index:self.cur_val_index+self.batch_sz], \n",
    "                        self.te_pairs_1[self.cur_val_index:self.cur_val_index+self.batch_sz]\n",
    "                    ],\n",
    "                    self.te_y[self.cur_val_index:self.cur_val_index+self.batch_sz]\n",
    "                )\n",
    "\n",
    "def euclidean_distance(vects):\n",
    "    x, y = vects\n",
    "    return K.sqrt(K.sum(K.square(x - y), axis=1, keepdims=True))\n",
    "\n",
    "\n",
    "def eucl_dist_output_shape(shapes):\n",
    "    shape1, shape2 = shapes\n",
    "    return (shape1[0], 1)\n",
    "\n",
    "\n",
    "def contrastive_loss(y_true, y_pred):\n",
    "    '''Contrastive loss from Hadsell-et-al.'06\n",
    "    http://yann.lecun.com/exdb/publis/pdf/hadsell-chopra-lecun-06.pdf\n",
    "    '''\n",
    "    margin = 1\n",
    "    return K.mean(y_true * K.square(y_pred) + (1 - y_true) * K.square(K.maximum(margin - y_pred, 0)))\n",
    "\n",
    "\n",
    "def create_base_network(input_dim):\n",
    "    '''Base network to be shared (eq. to feature extraction).\n",
    "    '''\n",
    "    seq = Sequential()\n",
    "    seq.add(Dense(128, input_shape=(input_dim,), activation='relu'))\n",
    "    seq.add(Dropout(0.1))\n",
    "    seq.add(Dense(128, activation='relu'))\n",
    "    seq.add(Dropout(0.1))\n",
    "    seq.add(Dense(128, activation='relu'))\n",
    "    return seq\n",
    "\n",
    "\n",
    "def compute_accuracy(predictions, labels):\n",
    "    '''Compute classification accuracy with a fixed threshold on distances.\n",
    "    '''\n",
    "    return labels[predictions.ravel() < 0.5].mean()\n",
    "\n",
    "\n",
    "\n",
    "input_dim = 784\n",
    "nb_epoch = 1\n",
    "batch_size=128\n",
    "\n",
    "datagen = DataGenerator(batch_size)\n",
    "\n",
    "# network definition\n",
    "base_network = create_base_network(input_dim)\n",
    "\n",
    "input_a = Input(shape=(input_dim,))\n",
    "input_b = Input(shape=(input_dim,))\n",
    "\n",
    "# because we re-use the same instance `base_network`,\n",
    "# the weights of the network\n",
    "# will be shared across the two branches\n",
    "processed_a = base_network(input_a)\n",
    "processed_b = base_network(input_b)\n",
    "\n",
    "\n",
    "#for i in datagen.next_train():\n",
    "#  print(i)\n",
    "\n",
    "\n",
    "\n",
    "#for i in datagen.next_train():\n",
    "#  for j in i:\n",
    "#    print(np.array(j).shape)\n",
    "\n",
    "\n",
    "distance = Lambda(euclidean_distance, output_shape=eucl_dist_output_shape)([processed_a, processed_b])\n",
    "\n",
    "model = Model(input=[input_a, input_b], output=distance)\n",
    "\n",
    "# train\n",
    "rms = RMSprop()\n",
    "model.compile(loss=contrastive_loss, optimizer=rms)\n",
    "history = model.fit_generator(generator=datagen.next_train(), samples_per_epoch=datagen.samples_per_train, nb_epoch=nb_epoch, validation_data=datagen.next_val(), nb_val_samples=datagen.samples_per_val)\n",
    "\n",
    "# summarize history for loss\n",
    "plt.plot(history.history['loss'])\n",
    "plt.plot(history.history['val_loss'])\n",
    "plt.title('model loss')\n",
    "plt.ylabel('loss')\n",
    "plt.xlabel('epoch')\n",
    "plt.legend(['train', 'test'], loc='upper left')\n",
    "plt.show()\n",
    "\n",
    "\n",
    "#model.metrics_names\n"
   ]
  },
  {
   "cell_type": "code",
   "execution_count": 10,
   "metadata": {
    "colab": {
     "base_uri": "https://localhost:8080/",
     "height": 175
    },
    "colab_type": "code",
    "executionInfo": {
     "elapsed": 530,
     "status": "error",
     "timestamp": 1573404782045,
     "user": {
      "displayName": "guillermo garcia",
      "photoUrl": "",
      "userId": "17287458583088402874"
     },
     "user_tz": -60
    },
    "id": "41Ubt_90GfcQ",
    "outputId": "53abe44d-e975-4f24-d2c5-f2fbab33b6a9"
   },
   "outputs": [
    {
     "ename": "TypeError",
     "evalue": "ignored",
     "output_type": "error",
     "traceback": [
      "\u001b[0;31m---------------------------------------------------------------------------\u001b[0m",
      "\u001b[0;31mTypeError\u001b[0m                                 Traceback (most recent call last)",
      "\u001b[0;32m<ipython-input-10-c894d1261616>\u001b[0m in \u001b[0;36m<module>\u001b[0;34m()\u001b[0m\n\u001b[0;32m----> 1\u001b[0;31m \u001b[0;32mfor\u001b[0m \u001b[0mi\u001b[0m \u001b[0;32min\u001b[0m \u001b[0mhistory\u001b[0m\u001b[0;34m:\u001b[0m\u001b[0;34m\u001b[0m\u001b[0;34m\u001b[0m\u001b[0m\n\u001b[0m\u001b[1;32m      2\u001b[0m   \u001b[0mprint\u001b[0m\u001b[0;34m(\u001b[0m\u001b[0mi\u001b[0m\u001b[0;34m)\u001b[0m\u001b[0;34m\u001b[0m\u001b[0;34m\u001b[0m\u001b[0m\n",
      "\u001b[0;31mTypeError\u001b[0m: 'History' object is not iterable"
     ]
    }
   ],
   "source": []
  },
  {
   "cell_type": "code",
   "execution_count": 7,
   "metadata": {
    "colab": {
     "base_uri": "https://localhost:8080/",
     "height": 295
    },
    "colab_type": "code",
    "executionInfo": {
     "elapsed": 575,
     "status": "ok",
     "timestamp": 1573404212928,
     "user": {
      "displayName": "guillermo garcia",
      "photoUrl": "",
      "userId": "17287458583088402874"
     },
     "user_tz": -60
    },
    "id": "RLev-3vmHV4x",
    "outputId": "dfd3f820-4b5c-41bc-b37b-2106bd06b012"
   },
   "outputs": [
    {
     "data": {
      "image/png": "[encoded data removed]",
      "text/plain": [
       "<Figure size 432x288 with 1 Axes>"
      ]
     },
     "metadata": {
      "tags": []
     },
     "output_type": "display_data"
    }
   ],
   "source": [
    "# summarize history for loss\n",
    "plt.plot(history.history['loss'])\n",
    "plt.plot(history.history['val_loss'])\n",
    "plt.title('model loss')\n",
    "plt.ylabel('loss')\n",
    "plt.xlabel('epoch')\n",
    "plt.legend(['train', 'test'], loc='upper left')\n",
    "plt.show()\n"
   ]
  }
 ],
 "metadata": {
  "colab": {
   "name": "MnistSiameseBatch.ipynb",
   "provenance": []
  },
  "kernelspec": {
   "display_name": "Python 3",
   "language": "python",
   "name": "python3"
  },
  "language_info": {
   "codemirror_mode": {
    "name": "ipython",
    "version": 3
   },
   "file_extension": ".py",
   "mimetype": "text/x-python",
   "name": "python",
   "nbconvert_exporter": "python",
   "pygments_lexer": "ipython3",
   "version": "3.7.6"
  }
 },
 "nbformat": 4,
 "nbformat_minor": 1
}
